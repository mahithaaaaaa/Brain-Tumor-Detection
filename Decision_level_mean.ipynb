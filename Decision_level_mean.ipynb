{
  "cells": [
    {
      "cell_type": "code",
      "execution_count": null,
      "metadata": {
        "id": "4_ixGBBDxFjS"
      },
      "outputs": [],
      "source": [
        "!pip install tensorflow keras numpy pandas opencv-python kaggle"
      ]
    },
    {
      "cell_type": "code",
      "execution_count": null,
      "metadata": {
        "id": "oemlAy7XxHkV"
      },
      "outputs": [],
      "source": [
        "from google.colab import files\n",
        "files.upload()"
      ]
    },
    {
      "cell_type": "code",
      "execution_count": null,
      "metadata": {
        "id": "7PnMLUUP1W2X"
      },
      "outputs": [],
      "source": []
    },
    {
      "cell_type": "code",
      "execution_count": null,
      "metadata": {
        "id": "Y1MPOkcuxT5I"
      },
      "outputs": [],
      "source": [
        "!mkdir -p ~/.kaggle\n",
        "!mv kaggle.json ~/.kaggle/\n",
        "!chmod 600 ~/.kaggle/kaggle.json"
      ]
    },
    {
      "cell_type": "code",
      "execution_count": null,
      "metadata": {
        "id": "d9IZ3U11nBRp"
      },
      "outputs": [],
      "source": []
    },
    {
      "cell_type": "code",
      "execution_count": null,
      "metadata": {
        "id": "lRoUOGpaxXMj"
      },
      "outputs": [],
      "source": [
        "!kaggle datasets download -d masoudnickparvar/brain-tumor-mri-dataset"
      ]
    },
    {
      "cell_type": "code",
      "execution_count": null,
      "metadata": {
        "id": "CI2--qi_xadK"
      },
      "outputs": [],
      "source": [
        "!unzip /content/brain-tumor-mri-dataset.zip -d dataset"
      ]
    },
    {
      "cell_type": "code",
      "execution_count": null,
      "metadata": {
        "id": "1dVRyksuxdYF"
      },
      "outputs": [],
      "source": [
        "!pip install torchvision scikit-learn matplotlib"
      ]
    },
    {
      "cell_type": "code",
      "execution_count": null,
      "metadata": {
        "id": "M2WtiAMhx6Me"
      },
      "outputs": [],
      "source": [
        "import torch\n",
        "import torch.nn as nn\n",
        "import torchvision.models as models\n",
        "from torchvision import transforms\n",
        "from torchvision.datasets import ImageFolder\n",
        "from torch.utils.data import DataLoader\n",
        "import numpy as np\n",
        "from sklearn.metrics import accuracy_score, confusion_matrix\n",
        "import seaborn as sns\n",
        "import matplotlib.pyplot as plt"
      ]
    },
    {
      "cell_type": "code",
      "execution_count": null,
      "metadata": {
        "id": "QZf8DqfHyJYZ"
      },
      "outputs": [],
      "source": [
        "device = torch.device(\"cuda\" if torch.cuda.is_available() else \"cpu\")"
      ]
    },
    {
      "cell_type": "code",
      "execution_count": null,
      "metadata": {
        "id": "8EIrUKU-1YpJ"
      },
      "outputs": [],
      "source": [
        "train_transform = transforms.Compose([\n",
        "    transforms.Resize((224, 224)),\n",
        "    transforms.RandomHorizontalFlip(),\n",
        "    transforms.RandomRotation(15),\n",
        "    transforms.RandomResizedCrop(224, scale=(0.8, 1.0)),\n",
        "    transforms.ToTensor(),\n",
        "    transforms.Normalize([0.485, 0.456, 0.406], [0.229, 0.224, 0.225])\n",
        "])\n",
        "\n",
        "test_transform = transforms.Compose([\n",
        "    transforms.Resize((224, 224)),\n",
        "    transforms.CenterCrop(224),\n",
        "    transforms.ToTensor(),\n",
        "    transforms.Normalize([0.485, 0.456, 0.406], [0.229, 0.224, 0.225])\n",
        "])"
      ]
    },
    {
      "cell_type": "code",
      "execution_count": null,
      "metadata": {
        "id": "quJJq9OA1d4r"
      },
      "outputs": [],
      "source": [
        "  train_dir = \"/content/dataset/Training\"\n",
        "test_dir = \"/content/dataset/Testing\"\n",
        "train_dataset = ImageFolder(root=train_dir, transform=train_transform)\n",
        "test_dataset = ImageFolder(root=test_dir, transform=test_transform)\n",
        "\n",
        "train_loader = DataLoader(train_dataset, batch_size=32, shuffle=True)\n",
        "test_loader = DataLoader(test_dataset, batch_size=32, shuffle=False)\n"
      ]
    },
    {
      "cell_type": "code",
      "execution_count": null,
      "metadata": {
        "id": "OQQrLGkGIvsZ"
      },
      "outputs": [],
      "source": [
        "import torch\n",
        "import torch.nn as nn\n",
        "import torch.optim as optim\n",
        "from torchvision import datasets, transforms, models\n",
        "from sklearn.metrics import confusion_matrix, accuracy_score, precision_score, f1_score\n",
        "import matplotlib.pyplot as plt\n",
        "import numpy as np\n",
        "import os\n",
        "from tqdm import tqdm\n",
        "from google.colab import drive\n"
      ]
    },
    {
      "cell_type": "markdown",
      "metadata": {
        "id": "lSV6lAfh6L8Y"
      },
      "source": []
    },
    {
      "cell_type": "code",
      "execution_count": null,
      "metadata": {
        "id": "3c8six9eI-h1"
      },
      "outputs": [],
      "source": [
        "# Hyperparameters\n",
        "batch_size = 32\n",
        "learning_rate = 0.001\n",
        "num_epochs = 10\n"
      ]
    },
    {
      "cell_type": "code",
      "execution_count": null,
      "metadata": {
        "id": "nIbiAtGFJZ3c"
      },
      "outputs": [],
      "source": [
        "\n",
        "# Define Dataset Paths\n",
        "train_path = \"/content/dataset/training\"\n",
        "test_path = \"/content/dataset/testing\"\n"
      ]
    },
    {
      "cell_type": "code",
      "execution_count": null,
      "metadata": {
        "id": "SrBGr437JnoT"
      },
      "outputs": [],
      "source": [
        "# Define Data Transformations\n",
        "transform = transforms.Compose([\n",
        "    transforms.Resize((224, 224)),  # Resize images\n",
        "    transforms.ToTensor(),         # Convert to Tensor\n",
        "    transforms.Normalize(mean=[0.5, 0.5, 0.5], std=[0.5, 0.5, 0.5])  # Normalize\n",
        "])\n"
      ]
    },
    {
      "cell_type": "code",
      "execution_count": null,
      "metadata": {
        "id": "_cKVcnMTJysz"
      },
      "outputs": [],
      "source": [
        "# Helper Function to Define Models\n",
        "def create_model(model_name):\n",
        "    if model_name == \"resnet50\":\n",
        "        model = models.resnet50(pretrained=True)\n",
        "        model.fc = nn.Linear(model.fc.in_features, len(train_dataset.classes))\n",
        "    elif model_name == \"efficientnet_b0\":\n",
        "        model = EfficientNet.from_pretrained(\"efficientnet-b0\")\n",
        "        model._fc = nn.Linear(model._fc.in_features, len(train_dataset.classes))\n",
        "\n",
        "    elif model_name == \"densenet\":\n",
        "        model = models.densenet121(pretrained=True)\n",
        "        model.classifier = nn.Linear(model.classifier.in_features, len(train_dataset.classes))\n",
        "\n",
        "    return model.to(device)\n"
      ]
    },
    {
      "cell_type": "code",
      "execution_count": null,
      "metadata": {
        "id": "eovTq9QHJ1Ma"
      },
      "outputs": [],
      "source": [
        "# Models to Train\n",
        "models_to_train = [\"resnet50\", \"efficientnet_b0\", \"densenet\"]\n",
        "\n"
      ]
    },
    {
      "cell_type": "code",
      "execution_count": null,
      "metadata": {
        "id": "MR3HljaGJ7Gg"
      },
      "outputs": [],
      "source": [
        "# Train Function\n",
        "def train_model(model, train_loader, criterion, optimizer):\n",
        "    model.train()\n",
        "    running_loss = 0\n",
        "    correct = 0\n",
        "    total = 0\n",
        "    for images, labels in tqdm(train_loader):\n",
        "        images, labels = images.to(device), labels.to(device)\n",
        "\n",
        "        # Forward Pass\n",
        "        outputs = model(images)\n",
        "        loss = criterion(outputs, labels)\n",
        "\n",
        "        # Backward Pass\n",
        "        optimizer.zero_grad()\n",
        "        loss.backward()\n",
        "        optimizer.step()\n",
        "\n",
        "        # Statistics\n",
        "        running_loss += loss.item()\n",
        "        _, predicted = torch.max(outputs, 1)\n",
        "        total += labels.size(0)\n",
        "        correct += (predicted == labels).sum().item()\n",
        "\n",
        "    accuracy = 100 * correct / total\n",
        "    return running_loss / len(train_loader), accuracy\n",
        "\n"
      ]
    },
    {
      "cell_type": "code",
      "execution_count": null,
      "metadata": {
        "id": "LuOlkrhnKSRX"
      },
      "outputs": [],
      "source": []
    },
    {
      "cell_type": "code",
      "execution_count": null,
      "metadata": {
        "id": "QJtDTFLpKemK"
      },
      "outputs": [],
      "source": [
        "# Test Function\n",
        "def test_model(model, test_loader):\n",
        "    model.eval()\n",
        "    all_predictions = []\n",
        "    all_labels = []\n",
        "    with torch.no_grad():\n",
        "        for images, labels in test_loader:\n",
        "            images, labels = images.to(device), labels.to(device)\n",
        "\n",
        "            outputs = model(images)\n",
        "            _, predicted = torch.max(outputs, 1)\n",
        "\n",
        "            all_predictions.extend(predicted.cpu().numpy())\n",
        "            all_labels.extend(labels.cpu().numpy())\n",
        "\n",
        "    return all_labels, all_predictions"
      ]
    },
    {
      "cell_type": "code",
      "execution_count": null,
      "metadata": {
        "id": "QbOEt2WDKhao"
      },
      "outputs": [],
      "source": [
        "!pip install efficientnet_pytorch\n"
      ]
    },
    {
      "cell_type": "code",
      "execution_count": null,
      "metadata": {
        "id": "D8TN3kGUOmao"
      },
      "outputs": [],
      "source": [
        "from efficientnet_pytorch import EfficientNet\n"
      ]
    },
    {
      "cell_type": "code",
      "execution_count": null,
      "metadata": {
        "colab": {
          "background_save": true,
          "base_uri": "https://localhost:8080/"
        },
        "id": "vvh4Docjax-N",
        "outputId": "62a09430-9e10-47d5-fc0d-2aeb640808bf"
      },
      "outputs": [
        {
          "name": "stdout",
          "output_type": "stream",
          "text": [
            "Training resnet50...\n"
          ]
        },
        {
          "name": "stderr",
          "output_type": "stream",
          "text": [
            "/usr/local/lib/python3.11/dist-packages/torchvision/models/_utils.py:208: UserWarning: The parameter 'pretrained' is deprecated since 0.13 and may be removed in the future, please use 'weights' instead.\n",
            "  warnings.warn(\n",
            "/usr/local/lib/python3.11/dist-packages/torchvision/models/_utils.py:223: UserWarning: Arguments other than a weight enum or `None` for 'weights' are deprecated since 0.13 and may be removed in the future. The current behavior is equivalent to passing `weights=ResNet50_Weights.IMAGENET1K_V1`. You can also use `weights=ResNet50_Weights.DEFAULT` to get the most up-to-date weights.\n",
            "  warnings.warn(msg)\n",
            "Downloading: \"https://download.pytorch.org/models/resnet50-0676ba61.pth\" to /root/.cache/torch/hub/checkpoints/resnet50-0676ba61.pth\n",
            "100%|██████████| 97.8M/97.8M [00:01<00:00, 58.5MB/s]\n",
            "100%|██████████| 179/179 [57:19<00:00, 19.21s/it]\n"
          ]
        },
        {
          "name": "stdout",
          "output_type": "stream",
          "text": [
            "Epoch [1/10] - Loss: 0.5282, Accuracy: 79.52%\n"
          ]
        },
        {
          "name": "stderr",
          "output_type": "stream",
          "text": [
            "  4%|▍         | 7/179 [02:18<56:24, 19.67s/it]"
          ]
        }
      ],
      "source": [
        "# Train and Evaluate All Models\n",
        "trained_models = {}\n",
        "for model_name in models_to_train:\n",
        "    print(f\"Training {model_name}...\")\n",
        "    model = create_model(model_name)\n",
        "\n",
        "    criterion = nn.CrossEntropyLoss()\n",
        "    optimizer = optim.Adam(model.parameters(), lr=learning_rate)\n",
        "\n",
        "    epoch_accuracies = []\n",
        "    for epoch in range(num_epochs):\n",
        "        train_loss, train_accuracy = train_model(model, train_loader, criterion, optimizer)\n",
        "        print(f\"Epoch [{epoch + 1}/{num_epochs}] - Loss: {train_loss:.4f}, Accuracy: {train_accuracy:.2f}%\")\n",
        "        epoch_accuracies.append(train_accuracy)\n",
        "\n",
        "    # Evaluate Model on Test Set\n",
        "    labels, predictions = test_model(model, test_loader)\n",
        "    acc = accuracy_score(labels, predictions)\n",
        "    precision = precision_score(labels, predictions, average='macro')\n",
        "    f1 = f1_score(labels, predictions, average='macro')\n",
        "    cm = confusion_matrix(labels, predictions)\n",
        "\n",
        "    print(f\"Test Accuracy for {model_name}: {acc:.2f}\")\n",
        "    print(f\"Confusion Matrix:\\n{cm}\")\n",
        "    print(f\"Precision: {precision:.2f}, F1 Score: {f1:.2f}\")\n",
        "\n",
        "    # Save Model\n",
        "    model_save_path = f\"/content/drive/MyDrive/{model_name}_brain_tumor.pth\"\n",
        "    torch.save(model.state_dict(), model_save_path)\n",
        "    print(f\"Model saved to {model_save_path}\")\n",
        "\n",
        "    # Plot Epoch vs Accuracy\n",
        "    plt.plot(range(1, num_epochs + 1), epoch_accuracies, label=model_name)\n",
        "\n",
        "    # Store Trained Model\n",
        "    trained_models[model_name] = model\n",
        "\n"
      ]
    },
    {
      "cell_type": "code",
      "execution_count": null,
      "metadata": {
        "id": "1Ck1PIzea6tg"
      },
      "outputs": [],
      "source": [
        "def ensemble_predictions(models, test_loader):\n",
        "    all_ensemble_preds = []\n",
        "    all_labels = []\n",
        "\n",
        "    for images, labels in tqdm(test_loader):\n",
        "        images = images.to(device)\n",
        "\n",
        "        # Collect Predictions from All Models\n",
        "        predictions = []\n",
        "        for model_name, model in models.items():\n",
        "            model.eval()\n",
        "            with torch.no_grad():\n",
        "                outputs = model(images)\n",
        "                predictions.append(torch.softmax(outputs, dim=1).cpu().numpy())\n",
        "\n",
        "        # Perform Mean Fusion\n",
        "        fused_preds = np.mean(predictions, axis=0)\n",
        "        fused_classes = np.argmax(fused_preds, axis=1)\n",
        "\n",
        "        all_ensemble_preds.extend(fused_classes)\n",
        "        all_labels.extend(labels.numpy())\n",
        "\n",
        "    return all_labels, all_ensemble_preds\n",
        "\n",
        "ensemble_labels, ensemble_predictions = ensemble_predictions(trained_models, test_loader)"
      ]
    },
    {
      "cell_type": "code",
      "execution_count": null,
      "metadata": {
        "id": "UsHw4jIPbBy1"
      },
      "outputs": [],
      "source": [
        "# Evaluate Ensemble Model\n",
        "ensemble_acc = accuracy_score(ensemble_labels, ensemble_predictions)\n",
        "ensemble_precision = precision_score(ensemble_labels, ensemble_predictions, average='macro')\n",
        "ensemble_f1 = f1_score(ensemble_labels, ensemble_predictions, average='macro')\n",
        "ensemble_cm = confusion_matrix(ensemble_labels, ensemble_predictions)\n",
        "\n",
        "print(f\"\\nEnsemble Model Results:\")\n",
        "print(f\"Accuracy: {ensemble_acc:.2f}\")\n",
        "print(f\"Precision: {ensemble_precision:.2f}, F1 Score: {ensemble_f1:.2f}\")\n",
        "print(f\"Confusion Matrix:\\n{ensemble_cm}\")\n",
        "\n"
      ]
    },
    {
      "cell_type": "code",
      "execution_count": null,
      "metadata": {
        "id": "D6htgBCqbGZD"
      },
      "outputs": [],
      "source": [
        "from sklearn.metrics import accuracy_score, precision_score, recall_score, f1_score, confusion_matrix\n",
        "import pandas as pd\n",
        "\n",
        "# Assuming `labels` and `predictions` are already defined\n",
        "# Replace the following with your actual data if needed\n",
        "# labels = [...]         # True labels\n",
        "# predictions = [...]    # Model predictions\n",
        "\n",
        "# Calculate metrics\n",
        "accuracy = accuracy_score(labels, predictions)\n",
        "precision = precision_score(labels, predictions, average='macro')  # Adjust 'average' as needed\n",
        "recall = recall_score(labels, predictions, average='macro')\n",
        "f1 = f1_score(labels, predictions, average='macro')\n",
        "cm = confusion_matrix(labels, predictions)\n",
        "\n",
        "# Create and display a table\n",
        "metrics = {\n",
        "    \"Metric\": [\"Accuracy\", \"Precision\", \"Recall\", \"F1 Score\"],\n",
        "    \"Value\": [accuracy, precision, recall, f1]\n",
        "}\n",
        "\n",
        "metrics_df = pd.DataFrame(metrics)\n",
        "print(metrics_df)\n",
        "\n",
        "# (Optional) Print the confusion matrix separately\n",
        "print(\"\\nConfusion Matrix:\")\n",
        "print(cm)\n"
      ]
    },
    {
      "cell_type": "code",
      "execution_count": null,
      "metadata": {
        "id": "oImtucnT3SR1"
      },
      "outputs": [],
      "source": [
        "import seaborn as sns\n",
        "\n",
        "# Plot Confusion Matrix\n",
        "plt.figure(figsize=(10,8))\n",
        "sns.heatmap(ensemble_cm, annot=True, fmt='d', cmap='Blues', xticklabels=train_dataset.classes, yticklabels=train_dataset.classes)\n",
        "plt.title('Confusion Matrix for Ensemble Model')\n",
        "plt.xlabel('Predicted Labels')\n",
        "plt.ylabel('True Labels')\n",
        "plt.show()\n"
      ]
    }
  ],
  "metadata": {
    "accelerator": "GPU",
    "colab": {
      "gpuType": "T4",
      "provenance": []
    },
    "kernelspec": {
      "display_name": "Python 3",
      "name": "python3"
    },
    "language_info": {
      "name": "python"
    }
  },
  "nbformat": 4,
  "nbformat_minor": 0
}